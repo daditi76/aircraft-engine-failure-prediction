# Install (only if not available)
!pip install pandas numpy matplotlib seaborn scikit-learn

# Import libraries
import pandas as pd
import numpy as np
import matplotlib.pyplot as plt
import seaborn as sns
from sklearn.model_selection import train_test_split
from sklearn.ensemble import RandomForestRegressor
from sklearn.metrics import mean_absolute_error, mean_squared_error


import zipfile

# Load NASA CMAPSS dataset (training file)
columns = ['engine_no', 'cycle',
           'setting1', 'setting2', 'setting3'] + \
          [f'sensor_{i}' for i in range(1,22)]

# Extract the training data file from the zip archive
with zipfile.ZipFile("training.zip", 'r') as zip_ref:
    zip_ref.extract('CMaps/train_FD001.txt')

# Read the extracted file into a pandas DataFrame
df = pd.read_csv('CMaps/train_FD001.txt', sep=" ", header=None)
df.dropna(axis=1, how='all', inplace=True)
df.columns = columns

print("Dataset Shape:", df.shape)
df.head()

# Calculate RUL for each engine
rul_df = df.groupby('engine_no')['cycle'].max().reset_index()
rul_df.columns = ['engine_no', 'max_cycle']

df = df.merge(rul_df, on='engine_no')
df['RUL'] = df['max_cycle'] - df['cycle']
df.drop('max_cycle', axis=1, inplace=True)

df.head()
